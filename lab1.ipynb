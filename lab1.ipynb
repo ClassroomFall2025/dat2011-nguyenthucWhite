{
 "cells": [
  {
   "cell_type": "markdown",
   "id": "fdeff819",
   "metadata": {},
   "source": [
    "# Sinh Viên thực hiện Lab 1 ở Đây"
   ]
  },
  {
   "cell_type": "markdown",
   "id": "acc5d7dc",
   "metadata": {},
   "source": [
    "## Lab 1 - Bài 1"
   ]
  },
  {
   "cell_type": "code",
   "execution_count": 1,
   "id": "001e0507",
   "metadata": {},
   "outputs": [
    {
     "name": "stdout",
     "output_type": "stream",
     "text": [
      "Hello Word\n",
      "Tôi là Nguyễn Hữu Thức\n",
      "Quê quán tôi ở Bình Thuận\n"
     ]
    }
   ],
   "source": [
    "# Code lab 1 bài 1 ở đây\n",
    "print(\"Hello Word\")\n",
    "print(\"Tôi là Nguyễn Hữu Thức\")\n",
    "print(\"Quê quán tôi ở Bình Thuận\")"
   ]
  },
  {
   "cell_type": "markdown",
   "id": "c0835310",
   "metadata": {},
   "source": [
    "## Lab 1 - Bài 2"
   ]
  },
  {
   "cell_type": "code",
   "execution_count": 2,
   "id": "fa9cb39f",
   "metadata": {},
   "outputs": [
    {
     "name": "stdout",
     "output_type": "stream",
     "text": [
      "Chu vi của hình chữ nhật là:  32\n",
      "Chu vi của hình chữ nhật là:  24\n"
     ]
    }
   ],
   "source": [
    "# Code lab 1  bài 2 ở đây\n",
    "import math\n",
    "\n",
    "a = input(\"Nhập chiều dài của hình chữ nhật: \")\n",
    "b = input(\"Nhập chiều rộng của hình chữ nhât: \")\n",
    "\n",
    "Dien_tich = int(a) * int(b)\n",
    "print(\"Chu vi của hình chữ nhật là: \", Dien_tich)\n",
    "Chu_vi = (int(a)+int(b))*2\n",
    "print(\"Chu vi của hình chữ nhật là: \", Chu_vi)"
   ]
  },
  {
   "cell_type": "markdown",
   "id": "0f2483fe",
   "metadata": {},
   "source": [
    "## Lab 1 - Bài 3"
   ]
  },
  {
   "cell_type": "code",
   "execution_count": 3,
   "id": "7034990b",
   "metadata": {},
   "outputs": [
    {
     "name": "stdout",
     "output_type": "stream",
     "text": [
      "\"...\n",
      "Sống không giận, không hờn không oán trách\n",
      "Sống mỉm cười, với thử thách chông gai\n",
      "Sống vươn lên, theo kịp ánh ban mai\n",
      "Sống chan hòa, với những người chung sống.\n",
      "\n",
      "Sống là động, nhưng lòng luôn bất động\n",
      "Sống là thương, nhưng lòng chẳng vấn vương\n",
      "Sống yên vui, danh lợi mãi coi thường\n",
      "Tâm bất biến, giữa dòng đời vạn biến.\n",
      "...\"\n"
     ]
    }
   ],
   "source": [
    "# Code lab 1  bài 3 ở đây\n",
    "s = \"Sống\"\n",
    "print('\"...')\n",
    "print(s,\"không giận, không hờn không oán trách\")\n",
    "print(s,\"mỉm cười, với thử thách chông gai\")\n",
    "print(s,\"vươn lên, theo kịp ánh ban mai\")\n",
    "print(s,\"chan hòa, với những người chung sống.\")\n",
    "print()\n",
    "print(s,\"là động, nhưng lòng luôn bất động\")\n",
    "print(s,\"là thương, nhưng lòng chẳng vấn vương\")\n",
    "print(s,\"yên vui, danh lợi mãi coi thường\")\n",
    "print(\"Tâm bất biến, giữa dòng đời vạn biến.\")\n",
    "print('...\"')"
   ]
  },
  {
   "cell_type": "markdown",
   "id": "d36ea3d3",
   "metadata": {},
   "source": [
    "## Lab 1 - Bài 4"
   ]
  },
  {
   "cell_type": "code",
   "execution_count": 4,
   "id": "4c707ec1",
   "metadata": {},
   "outputs": [
    {
     "name": "stdout",
     "output_type": "stream",
     "text": [
      "delta=  -80.0\n",
      "can_delta=  8.94427190999916\n"
     ]
    }
   ],
   "source": [
    "# code lab 1 bài 4 ở đây\n",
    "import math\n",
    "\n",
    "# Nhập hệ số\n",
    "a = float(input(\"Nhập a: \"))\n",
    "b = float(input(\"Nhập b: \"))\n",
    "c = float(input(\"Nhập c: \"))\n",
    "\n",
    "# Tính delta\n",
    "delta = b*b-4*a*c\n",
    "sqrt_delta = math.sqrt(abs(delta))\n",
    "\n",
    "# Xuất delta\n",
    "print(\"delta= \", delta)\n",
    "print(\"can_delta= \", sqrt_delta)"
   ]
  },
  {
   "cell_type": "markdown",
   "id": "e2b41d4a",
   "metadata": {},
   "source": [
    "## Lab 1 - Bài 5: bài tập làm thêm"
   ]
  },
  {
   "cell_type": "code",
   "execution_count": null,
   "id": "0e0172f7",
   "metadata": {},
   "outputs": [
    {
     "name": "stdout",
     "output_type": "stream",
     "text": [
      "Phép cộng:  9.0\n",
      "Phép trừ:  -1.0\n",
      "Phép nhân:  20.0\n",
      "Phép chia:  0.8\n",
      "\n",
      "-------------------------------------------\n",
      "\n",
      "Kết quả lũy thừa x^y:  279936.0\n",
      "\n",
      "-------------------------------------------\n",
      "\n",
      "Kết quả căn bậc hai √x:  2.6457513110645907\n",
      "\n",
      "-------------------------------------------\n",
      "\n",
      "sin( 8.0 ) =  0.13917310096006544\n",
      "cos( 8.0 ) =  0.9902680687415704\n",
      "tan( 8.0 ) =  0.14054083470239145\n",
      "\n",
      "-------------------------------------------\n",
      "\n",
      "log10( 8.0 ) =  0.9030899869919435\n",
      "ln( 8.0 ) =  2.0794415416798357\n",
      "log base  9.0 ( 8.0 ) =  0.946394630357186\n"
     ]
    }
   ],
   "source": [
    "# code lab 1  bài làm thêm ở đây \n",
    "import math\n",
    "\n",
    "# 1.Phép tính cơ bản: Cộng, trừ, nhân, chia\n",
    "a = float(input(\"Nhập số thứ nhất: \"))\n",
    "b = float(input(\"Nhập số thứ hai: \"))\n",
    "Cong = a + b\n",
    "Tru = a - b\n",
    "Nhan = a * b\n",
    "Chia = a / b\n",
    "print(\"Phép cộng: \", Cong)\n",
    "print(\"Phép trừ: \", Tru)\n",
    "print(\"Phép nhân: \", Nhan)\n",
    "print(\"Phép chia: \", Chia)\n",
    "print()\n",
    "print(\"-------------------------------------------\")\n",
    "print()\n",
    "\n",
    "# 2. Lũy thừa: Tính x^y\n",
    "x = float(input(\"Nhập cơ số x: \"))\n",
    "y = float(input(\"Nhập số mũ y: \"))\n",
    "Luy_thua = x ** y\n",
    "print(\"Kết quả lũy thừa x^y: \", Luy_thua)\n",
    "print()\n",
    "print(\"-------------------------------------------\")\n",
    "print()\n",
    "\n",
    "# 3. Căn bậc hai: Tính √x\n",
    "x = float(input(\"Nhập số x: \"))\n",
    "Can_bac_hai = math.sqrt(x)\n",
    "print(\"Kết quả căn bậc hai √x: \", Can_bac_hai)\n",
    "print()\n",
    "print(\"-------------------------------------------\")\n",
    "print()\n",
    "\n",
    "# 4. Hàm lượng giác: sin, cos, tan\n",
    "goc = float(input(\"Nhập góc (độ): \"))\n",
    "goc_rad = math.radians(goc)  # Chuyển độ sang radian\n",
    "Sin = math.sin(goc_rad)\n",
    "Cos = math.cos(goc_rad)\n",
    "Tan = math.tan(goc_rad)\n",
    "print(\"sin(\", goc, \") = \", Sin)\n",
    "print(\"cos(\", goc, \") = \", Cos)\n",
    "print(\"tan(\", goc, \") = \", Tan)\n",
    "print()\n",
    "print(\"-------------------------------------------\")\n",
    "print()\n",
    "\n",
    "# 5. Logarit: log cơ số 10, ln, log cơ số tùy chọn\n",
    "x = float(input(\"Nhập số x: \"))\n",
    "Log10 = math.log10(x)\n",
    "print(\"log10(\", x, \") = \", Log10)\n",
    "Ln = math.log(x)\n",
    "print(\"ln(\", x, \") = \", Ln)\n",
    "base = float(input(\"Nhập cơ số log tùy chọn: \"))\n",
    "Log_base = math.log(x, base)\n",
    "print(\"log base \", base, \"(\", x, \") = \", Log_base)"
   ]
  }
 ],
 "metadata": {
  "kernelspec": {
   "display_name": "Python 3",
   "language": "python",
   "name": "python3"
  },
  "language_info": {
   "codemirror_mode": {
    "name": "ipython",
    "version": 3
   },
   "file_extension": ".py",
   "mimetype": "text/x-python",
   "name": "python",
   "nbconvert_exporter": "python",
   "pygments_lexer": "ipython3",
   "version": "3.13.7"
  }
 },
 "nbformat": 4,
 "nbformat_minor": 5
}
