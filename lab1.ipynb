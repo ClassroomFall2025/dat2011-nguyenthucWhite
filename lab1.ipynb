{
 "cells": [
  {
   "cell_type": "markdown",
   "id": "fdeff819",
   "metadata": {},
   "source": [
    "# Sinh Viên thực hiện Lab 1 ở Đây"
   ]
  },
  {
   "cell_type": "markdown",
   "id": "acc5d7dc",
   "metadata": {},
   "source": [
    "## Lab 1 - Bài 1"
   ]
  },
  {
   "cell_type": "code",
   "execution_count": 1,
   "id": "001e0507",
   "metadata": {},
   "outputs": [
    {
     "name": "stdout",
     "output_type": "stream",
     "text": [
      "Hello Word\n",
      "Tôi là Nguyễn Hữu Thức\n",
      "Quê quán tôi ở Bình Thuận\n"
     ]
    }
   ],
   "source": [
    "# Code lab 1 bài 1 ở đây\n",
    "print(\"Hello Word\")\n",
    "print(\"Tôi là Nguyễn Hữu Thức\")\n",
    "print(\"Quê quán tôi ở Bình Thuận\")"
   ]
  },
  {
   "cell_type": "markdown",
   "id": "c0835310",
   "metadata": {},
   "source": [
    "## Lab 1 - Bài 2"
   ]
  },
  {
   "cell_type": "code",
   "execution_count": null,
   "id": "fa9cb39f",
   "metadata": {},
   "outputs": [],
   "source": [
    "# Code lab 1  bài 2 ở đây\n",
    "import math\n",
    "\n",
    "a = input(\"Nhập chiều dài của hình chữ nhật: \")\n",
    "b = input(\"Nhập chiều rộng của hình chữ nhât: \")\n",
    "\n",
    "Dien_tich = int(a) * int(b)\n",
    "print(\"Chu vi của hình chữ nhật là: \", Dien_tich)\n",
    "Chu_vi = (int(a)+int(b))*2\n",
    "print(\"Chu vi của hình chữ nhật là: \", Chu_vi)"
   ]
  },
  {
   "cell_type": "markdown",
   "id": "0f2483fe",
   "metadata": {},
   "source": [
    "## Lab 1 - Bài 3"
   ]
  },
  {
   "cell_type": "code",
   "execution_count": null,
   "id": "7034990b",
   "metadata": {},
   "outputs": [],
   "source": [
    "# Code lab 1  bài 3 ở đây\n",
    "s = \"Sống\"\n",
    "print('\"...')\n",
    "print(s,\"không giận, không hờn không oán trách\")\n",
    "print(s,\"mỉm cười, với thử thách chông gai\")\n",
    "print(s,\"vươn lên, theo kịp ánh ban mai\")\n",
    "print(s,\"chan hòa, với những người chung sống.\")\n",
    "print()\n",
    "print(s,\"là động, nhưng lòng luôn bất động\")\n",
    "print(s,\"là thương, nhưng lòng chẳng vấn vương\")\n",
    "print(s,\"yên vui, danh lợi mãi coi thường\")\n",
    "print(\"Tâm bất biến, giữa dòng đời vạn biến.\")\n",
    "print('...\"')"
   ]
  },
  {
   "cell_type": "markdown",
   "id": "d36ea3d3",
   "metadata": {},
   "source": [
    "## Lab 1 - Bài 4"
   ]
  },
  {
   "cell_type": "code",
   "execution_count": null,
   "id": "4c707ec1",
   "metadata": {},
   "outputs": [],
   "source": [
    "# code lab 1 bài 4 ở đây\n",
    "import math\n",
    "\n",
    "# Nhập hệ số\n",
    "a = float(input(\"Nhập a: \"))\n",
    "b = float(input(\"Nhập b: \"))\n",
    "c = float(input(\"Nhập c: \"))\n",
    "\n",
    "# Tính delta\n",
    "delta = b*b-4*a*c\n",
    "sqrt_delta = math.sqrt(abs(delta))\n",
    "\n",
    "# Xuất delta\n",
    "print(\"delta= \", delta)\n",
    "print(\"can_delta= \", sqrt_delta)"
   ]
  },
  {
   "cell_type": "markdown",
   "id": "e2b41d4a",
   "metadata": {},
   "source": [
    "## Lab 1 - Bài 5: bài tập làm thêm"
   ]
  },
  {
   "cell_type": "code",
   "execution_count": null,
   "id": "0e0172f7",
   "metadata": {},
   "outputs": [],
   "source": [
    "# code lab 1  bài làm thêm ở đây \n"
   ]
  }
 ],
 "metadata": {
  "kernelspec": {
   "display_name": "Python 3",
   "language": "python",
   "name": "python3"
  },
  "language_info": {
   "codemirror_mode": {
    "name": "ipython",
    "version": 3
   },
   "file_extension": ".py",
   "mimetype": "text/x-python",
   "name": "python",
   "nbconvert_exporter": "python",
   "pygments_lexer": "ipython3",
   "version": "3.13.7"
  }
 },
 "nbformat": 4,
 "nbformat_minor": 5
}
