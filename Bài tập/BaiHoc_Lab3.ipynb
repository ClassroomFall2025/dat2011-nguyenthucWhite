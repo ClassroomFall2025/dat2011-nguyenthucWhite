{
 "cells": [
  {
   "cell_type": "code",
   "execution_count": null,
   "id": "509a2705",
   "metadata": {},
   "outputs": [
    {
     "name": "stdout",
     "output_type": "stream",
     "text": [
      "([1, 2, 3, 4, 5], [[4, 5], 'Thức'])\n"
     ]
    }
   ],
   "source": [
    "# bài học list trong python\n",
    "\n",
    "my_list = [1, 2, 3, 4, 5], [[4,5],\"Thức\"]\n",
    "print(my_list)"
   ]
  },
  {
   "cell_type": "code",
   "execution_count": 11,
   "id": "0906f5c5",
   "metadata": {},
   "outputs": [
    {
     "name": "stdout",
     "output_type": "stream",
     "text": [
      "Hello World\n",
      "Hello World\n"
     ]
    }
   ],
   "source": [
    "my_list = [1, 2, 3, \"Hello World\", [4,5]]\n",
    "print(my_list[3])  # in ra phần tử thứ 3 của my_list\n",
    "print(my_list[-2]) # in ra phần tử thứ 2 từ cuối của my_list"
   ]
  },
  {
   "cell_type": "code",
   "execution_count": null,
   "id": "713d9798",
   "metadata": {},
   "outputs": [
    {
     "name": "stdout",
     "output_type": "stream",
     "text": [
      "1\n",
      "2\n",
      "3\n",
      "4.5\n",
      "python\n",
      "[3, 4]\n",
      "(2+3j)\n",
      "\n",
      "----------------------------\n",
      "\n",
      "(0, 1)\n",
      "(1, 2)\n",
      "(2, 3)\n",
      "(3, 4.5)\n",
      "(4, 'python')\n",
      "(5, [3, 4])\n",
      "(6, (2+3j))\n"
     ]
    }
   ],
   "source": [
    "my_list = [1, 2, 3, 4.5, \"python\", [3,4], 2 + 3j]\n",
    "for item in my_list:\n",
    "    print(item)\n",
    "print()\n",
    "print(\"----------------------------\")\n",
    "print()\n",
    "\n",
    "my_list = [1, 2, 3, 4.5, \"python\", [3,4], 2 + 3j]\n",
    "for item in enumerate(my_list):\n",
    "    print(item)"
   ]
  },
  {
   "cell_type": "code",
   "execution_count": null,
   "id": "ee95c026",
   "metadata": {},
   "outputs": [
    {
     "name": "stdout",
     "output_type": "stream",
     "text": [
      "sub_list = [2, 4.5, 'python']\n",
      "\n",
      "len_lisy = [1, 2, 4.5, 'python']\n"
     ]
    }
   ],
   "source": [
    "# Slicing trong list\n",
    "\n",
    "my_list = [1, 2, 4.5, \"python\", [3, 4], 2 + 3j]\n",
    "sub_list = my_list[1:4] # Lấy từ phần tử thứ 1 đến phần tử thứ 3\n",
    "print(\"sub_list =\", sub_list)\n",
    "print()\n",
    "\n",
    "# len trong list\n",
    "len_list = my_list[-len(my_list):4] # Lấy từ phần tử đầu tiên đến phần tử thứ 3\n",
    "print(\"len_lisy =\",len_list)"
   ]
  },
  {
   "cell_type": "code",
   "execution_count": 46,
   "id": "365743ac",
   "metadata": {},
   "outputs": [
    {
     "name": "stdout",
     "output_type": "stream",
     "text": [
      "my_list sau khi insert = [1, 2, 'Thức', 4.5, 'python', [3, 4], (2+3j)]\n",
      "my_list sau khi insert = [[10, 20], 1, 2, 'Thức', 4.5, 'python', [3, 4], (2+3j)]\n"
     ]
    }
   ],
   "source": [
    "# Insert trong list\n",
    "my_list = [1, 2, 4.5, \"python\", [3, 4], 2 + 3j]\n",
    "my_list.insert(2, \"Thức\") # Chèn \"Thức\" vào vị trí thứ 2\n",
    "print(\"my_list sau khi insert =\", my_list)\n",
    "my_list.insert(0,[10,20]) # Chèn [10,20] vào vị trí đầu tiên\n",
    "print(\"my_list sau khi insert =\", my_list)"
   ]
  },
  {
   "cell_type": "code",
   "execution_count": 47,
   "id": "2580ae79",
   "metadata": {},
   "outputs": [
    {
     "name": "stdout",
     "output_type": "stream",
     "text": [
      "my_list sau khi extend = [1, 2, 4.5, 'python', [3, 4], (2+3j), 'Thức', 'Nguyễn']\n"
     ]
    }
   ],
   "source": [
    "# extend(): nối 1 list với 1 list khác\n",
    "\n",
    "my_list = [1, 2, 4.5, \"python\", [3, 4], 2 + 3j]\n",
    "my_list2 = [\"Thức\", \"Nguyễn\"]   \n",
    "my_list.extend(my_list2) # Nối my_list2 vào my_list\n",
    "print(\"my_list sau khi extend =\", my_list)"
   ]
  },
  {
   "cell_type": "code",
   "execution_count": 48,
   "id": "567ce50a",
   "metadata": {},
   "outputs": [
    {
     "name": "stdout",
     "output_type": "stream",
     "text": [
      "my_list sau khi remove = [1, 2, 'python', [3, 4], (2+3j)]\n"
     ]
    }
   ],
   "source": [
    "# Xóa 1 phần tử dùng trong remove(value) và pop(index)\n",
    "my_list = [1, 2, 4.5, \"python\", [3, 4], 2 + 3j]\n",
    "my_list.remove(4.5) # Xóa phần tử có giá trị 4.\n",
    "print(\"my_list sau khi remove =\", my_list)"
   ]
  },
  {
   "cell_type": "code",
   "execution_count": 6,
   "id": "0c4f10a8",
   "metadata": {},
   "outputs": [
    {
     "name": "stdout",
     "output_type": "stream",
     "text": [
      "10\n"
     ]
    }
   ],
   "source": [
    "x = 10\n",
    "while x <= 0:\n",
    "   if x % 3 == 0:\n",
    "       x += 1\n",
    "       continue\n",
    "print(x)\n",
    "x = x + 1"
   ]
  }
 ],
 "metadata": {
  "kernelspec": {
   "display_name": "Python 3",
   "language": "python",
   "name": "python3"
  },
  "language_info": {
   "codemirror_mode": {
    "name": "ipython",
    "version": 3
   },
   "file_extension": ".py",
   "mimetype": "text/x-python",
   "name": "python",
   "nbconvert_exporter": "python",
   "pygments_lexer": "ipython3",
   "version": "3.13.7"
  }
 },
 "nbformat": 4,
 "nbformat_minor": 5
}
