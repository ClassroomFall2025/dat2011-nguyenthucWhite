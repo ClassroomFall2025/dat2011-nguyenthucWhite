{
 "cells": [
  {
   "cell_type": "code",
   "execution_count": 1,
   "id": "fa21da7c",
   "metadata": {},
   "outputs": [
    {
     "name": "stdout",
     "output_type": "stream",
     "text": [
      "Bạn đã chọn tùy chọn 1\n"
     ]
    }
   ],
   "source": [
    "# Ví dụ 1: Menu đơn giản\n",
    "Lua_chon = input(\"Chọn một tùy chọn (1-3): \")\n",
    "\n",
    "match Lua_chon:\n",
    "    case \"1\":\n",
    "        print(\"Bạn đã chọn tùy chọn 1\")\n",
    "    case \"2\":\n",
    "        print(\"Bạn đã chọn tùy chọn 2\")\n",
    "    case \"3\":\n",
    "        print(\"Bạn đã chọn tùy chọn 3\")\n",
    "    case _: # _ là wildcard, tương đương với else\n",
    "        print(\"Tùy chọn không hợp lệ\")"
   ]
  },
  {
   "cell_type": "code",
   "execution_count": null,
   "id": "a8a4c1f7",
   "metadata": {},
   "outputs": [],
   "source": [
    "# 1. Phep tinh co ban: Cong, tru, nhan, chia\n",
    "# 2. Luy thua: Tinh x^y\n",
    "# 3. Can bac hai: Tinh √x\n",
    "# 4. Ham luong giac: Sin, cos, tan\n",
    "# 5. Logarit: Log co so 10, ln, log co so tuy chon\n",
    "# 6. Giai phuong trinh bac nhat\n",
    "# 7. Giai phuong trinh bac 2\n",
    "# 8. Lich su: Luu va xem lai cac phep tinh da thuc hien\n",
    "# 9. Thoi gian: Hien thi thoi gian hien tai\n",
    "# 10. Giao dien than thien: Menu de su dung bang tieng Viet\n"
   ]
  }
 ],
 "metadata": {
  "kernelspec": {
   "display_name": "Python 3",
   "language": "python",
   "name": "python3"
  },
  "language_info": {
   "codemirror_mode": {
    "name": "ipython",
    "version": 3
   },
   "file_extension": ".py",
   "mimetype": "text/x-python",
   "name": "python",
   "nbconvert_exporter": "python",
   "pygments_lexer": "ipython3",
   "version": "3.13.7"
  }
 },
 "nbformat": 4,
 "nbformat_minor": 5
}
