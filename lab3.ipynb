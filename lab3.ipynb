{
 "cells": [
  {
   "cell_type": "markdown",
   "id": "fdeff819",
   "metadata": {},
   "source": [
    "# Sinh Viên thực hiện Lab 3 ở Đây"
   ]
  },
  {
   "cell_type": "code",
   "execution_count": 3,
   "id": "e475d320",
   "metadata": {},
   "outputs": [
    {
     "name": "stdout",
     "output_type": "stream",
     "text": [
      "55\n"
     ]
    }
   ],
   "source": [
    "# ví dụ về vòng lặp while\n",
    "tong = 0 \n",
    "x = 10\n",
    "while x > 0:\n",
    "    tong += x\n",
    "    x -= 1\n",
    "print(tong)"
   ]
  },
  {
   "cell_type": "markdown",
   "id": "acc5d7dc",
   "metadata": {},
   "source": [
    "## Lab 3 - Bài 1"
   ]
  },
  {
   "cell_type": "code",
   "execution_count": null,
   "id": "001e0507",
   "metadata": {},
   "outputs": [
    {
     "name": "stdout",
     "output_type": "stream",
     "text": [
      "Dãy số nguyên tăng dần: [3, 5, 7, 8, 12, 14, 19, 21, 33, 42]\n",
      "Phần tử có giá trị nhỏ nhất: 3\n",
      "Trung bình cộng các phần tử chia hết cho 3: 22.2\n",
      "\n",
      "Dãy số nguyên giảm dần: [42, 33, 21, 19, 14, 12, 8, 7, 5, 3]\n",
      "Phần tử nhỏ nhất trong danh sách giảm dần là phần tử thứ: 9\n"
     ]
    }
   ],
   "source": [
    "# Code lab 3 bài 1 ở đây\n",
    "\n",
    "# Viết chương trình thực hiện các thao tác sau với một dãy số nguyên.\n",
    "# Sắp xếp theo thứ tự tăng dần và xuất dãy số nguyên ra màn hình.\n",
    "day_so_nguyen = [12, 5, 8, 19, 33, 21, 42, 3, 7, 14]\n",
    "day_so_nguyen.sort()\n",
    "print(\"Dãy số nguyên tăng dần:\", day_so_nguyen)\n",
    "\n",
    "# Xuất phần tử có giá trị nhỏ nhất ra màn hình\n",
    "print(\"Phần tử có giá trị nhỏ nhất:\", day_so_nguyen[0])\n",
    "\n",
    "# Tính và xuất ra màn hình trung bình cộng các phần tử chia hết cho 3\n",
    "tong = 0\n",
    "dem = 0\n",
    "for n in day_so_nguyen:\n",
    "    if n % 3 == 0:\n",
    "        tong += n\n",
    "        dem += 1\n",
    "if dem > 0:\n",
    "    trung_binh_cong = tong / dem\n",
    "    print(\"Trung bình cộng các phần tử chia hết cho 3:\", trung_binh_cong)\n",
    "print()\n",
    "\n",
    "# CÁC YÊU CẦU NÂNG CAO (KHÔNG BẮT BUỘC)\n",
    "# Thay đổi sắp xếp theo thứ tự giảm dần, khi đó phần tử nhỏ nhất trong danh sách sẽ là phần tử thứ mấy?\n",
    "day_so_nguyen.sort(reverse=True)\n",
    "print(\"Dãy số nguyên giảm dần:\", day_so_nguyen)\n",
    "print(\"Phần tử nhỏ nhất trong danh sách giảm dần là phần tử thứ:\", day_so_nguyen.index(min(day_so_nguyen)))"
   ]
  },
  {
   "cell_type": "markdown",
   "id": "c0835310",
   "metadata": {},
   "source": [
    "## Lab 3 - Bài 2"
   ]
  },
  {
   "cell_type": "code",
   "execution_count": null,
   "id": "fa9cb39f",
   "metadata": {},
   "outputs": [
    {
     "name": "stdout",
     "output_type": "stream",
     "text": [
      "Thông tin sinh viên:\n",
      "Họ tên: Nguyễn Hữu Thức\n",
      "Điểm: 8.5\n",
      "Xếp loại: Giỏi\n",
      "\n",
      "\n",
      "Danh sách sinh viên:\n",
      "Họ tên: Lê Hoàng Gia Bảo\n",
      "Điểm: 9.0\n",
      "Xếp loại: Xuất sắc\n",
      "\n",
      "Họ tên: Nguyễn Thế Hoàng\n",
      "Điểm: 9.3\n",
      "Xếp loại: Xuất sắc\n",
      "\n",
      "Họ tên: Vũ Đình An\n",
      "Điểm: 9.3\n",
      "Xếp loại: Xuất sắc\n",
      "\n"
     ]
    }
   ],
   "source": [
    "# Code lab 3  bài 2 ở đây\n",
    "\n",
    "# Viết chương trình nhập dữ liệu của một sinh viên. Thông tin của sinh viên bao gồm: họ tên và điểm.\n",
    "ho_ten = (input(\"Họ tên: \"))\n",
    "diem = (float(input(\"Điểm: \")))\n",
    "\n",
    "# Xuất dữ liệu đã nhập, bổ sung thêm thông tin về xếp loại\n",
    "print(\"Thông tin sinh viên:\")\n",
    "print(\"Họ tên:\", ho_ten)\n",
    "print(\"Điểm:\", diem)\n",
    "if diem >= 9:\n",
    "    print(\"Xếp loại: Xuất sắc\")\n",
    "elif 8 <= diem < 9:\n",
    "    print(\"Xếp loại: Giỏi\")\n",
    "elif 7 <= diem < 8:\n",
    "    print(\"Xếp loại: Khá\")\n",
    "elif 5 <= diem < 7:\n",
    "    print(\"Xếp loại: Trung bình\")\n",
    "else:\n",
    "    print(\"Xếp loại: Yếu\")\n",
    "print()\n",
    "\n",
    "# CÁC YÊU CẦU NÂNG CAO (KHÔNG BẮT BUỘC)\n",
    "# Sử dụng kiểu list để lưu danh sách sinh viên\n",
    "list_sinh_vien = []\n",
    "so_luong = int(input(\"Nhập số lượng sinh viên: \"))\n",
    "\n",
    "# Nhập vào thông tin của một vài sinh viên\n",
    "for i in range(so_luong):\n",
    "    ho_ten = input(f\"Họ tên sinh viên {i+1}: \")\n",
    "    diem = float(input(f\"Điểm sinh viên {i+1}: \"))\n",
    "    list_sinh_vien.append((ho_ten, diem))\n",
    "    \n",
    "# Xuất thông tin của sinh viên ra màn hình, có thêm thông tin xếp loại\n",
    "print(\"\\nDanh sách sinh viên:\")\n",
    "for sv in list_sinh_vien:\n",
    "    ho_ten, diem = sv\n",
    "    print(\"Họ tên:\", ho_ten)\n",
    "    print(\"Điểm:\", diem)\n",
    "    if diem >= 9:\n",
    "        print(\"Xếp loại: Xuất sắc\")\n",
    "        print()\n",
    "    elif 8 <= diem < 9:\n",
    "        print(\"Xếp loại: Giỏi\")\n",
    "        print()\n",
    "    elif 7 <= diem < 8:\n",
    "        print(\"Xếp loại: Khá\")\n",
    "        print()\n",
    "    elif 5 <= diem < 7:\n",
    "        print(\"Xếp loại: Trung bình\")\n",
    "        print()\n",
    "    else:\n",
    "        print(\"Xếp loại: Yếu\")\n",
    "        print()"
   ]
  },
  {
   "cell_type": "markdown",
   "id": "0f2483fe",
   "metadata": {},
   "source": [
    "## Lab 3 - Bài 3"
   ]
  },
  {
   "cell_type": "code",
   "execution_count": 4,
   "id": "7034990b",
   "metadata": {},
   "outputs": [
    {
     "name": "stdout",
     "output_type": "stream",
     "text": [
      "10 không phải là số nguyên tố\n"
     ]
    }
   ],
   "source": [
    "# Code lab 3  bài 3 ở đây\n",
    "\n",
    "# Viết chương trình nhập một số nguyên từ bàn phím và cho biết số đó có phải là số nguyên tố hay không (số nguyên tố là số chỉ chia hết cho 1 và chính nó).\n",
    "n = int(input(\"Nhập một số nguyên: \"))\n",
    "ok = True\n",
    "i = 2\n",
    "\n",
    "while i < (n - 1):\n",
    "    if n % i == 0:\n",
    "        ok = False\n",
    "        break\n",
    "    i += 1\n",
    "\n",
    "# Kiểm tra biến ok bạn sẽ biết n có phải là số nguyên tố hay không?\n",
    "if ok and n > 1:\n",
    "    print(n, \"là số nguyên tố\")\n",
    "else:\n",
    "    print(n, \"không phải là số nguyên tố\")"
   ]
  },
  {
   "cell_type": "markdown",
   "id": "d36ea3d3",
   "metadata": {},
   "source": [
    "## Lab 3 - Bài 4"
   ]
  },
  {
   "cell_type": "code",
   "execution_count": 23,
   "id": "4c707ec1",
   "metadata": {},
   "outputs": [
    {
     "name": "stdout",
     "output_type": "stream",
     "text": [
      "Bảng cửu chương 1:\n",
      "1 x 1 = 1\t1 x 2 = 2\t1 x 3 = 3\t1 x 4 = 4\t1 x 5 = 5\t1 x 6 = 6\t1 x 7 = 7\t1 x 8 = 8\t1 x 9 = 9\t\n",
      "Bảng cửu chương 2:\n",
      "2 x 1 = 2\t2 x 2 = 4\t2 x 3 = 6\t2 x 4 = 8\t2 x 5 = 10\t2 x 6 = 12\t2 x 7 = 14\t2 x 8 = 16\t2 x 9 = 18\t\n",
      "Bảng cửu chương 3:\n",
      "3 x 1 = 3\t3 x 2 = 6\t3 x 3 = 9\t3 x 4 = 12\t3 x 5 = 15\t3 x 6 = 18\t3 x 7 = 21\t3 x 8 = 24\t3 x 9 = 27\t\n",
      "Bảng cửu chương 4:\n",
      "4 x 1 = 4\t4 x 2 = 8\t4 x 3 = 12\t4 x 4 = 16\t4 x 5 = 20\t4 x 6 = 24\t4 x 7 = 28\t4 x 8 = 32\t4 x 9 = 36\t\n",
      "Bảng cửu chương 5:\n",
      "5 x 1 = 5\t5 x 2 = 10\t5 x 3 = 15\t5 x 4 = 20\t5 x 5 = 25\t5 x 6 = 30\t5 x 7 = 35\t5 x 8 = 40\t5 x 9 = 45\t\n",
      "Bảng cửu chương 6:\n",
      "6 x 1 = 6\t6 x 2 = 12\t6 x 3 = 18\t6 x 4 = 24\t6 x 5 = 30\t6 x 6 = 36\t6 x 7 = 42\t6 x 8 = 48\t6 x 9 = 54\t\n",
      "Bảng cửu chương 7:\n",
      "7 x 1 = 7\t7 x 2 = 14\t7 x 3 = 21\t7 x 4 = 28\t7 x 5 = 35\t7 x 6 = 42\t7 x 7 = 49\t7 x 8 = 56\t7 x 9 = 63\t\n",
      "Bảng cửu chương 8:\n",
      "8 x 1 = 8\t8 x 2 = 16\t8 x 3 = 24\t8 x 4 = 32\t8 x 5 = 40\t8 x 6 = 48\t8 x 7 = 56\t8 x 8 = 64\t8 x 9 = 72\t\n",
      "Bảng cửu chương 9:\n",
      "9 x 1 = 9\t9 x 2 = 18\t9 x 3 = 27\t9 x 4 = 36\t9 x 5 = 45\t9 x 6 = 54\t9 x 7 = 63\t9 x 8 = 72\t9 x 9 = 81\t\n"
     ]
    }
   ],
   "source": [
    "# code lab 3 bài 4 ở đây\n",
    "\n",
    "# Viết chương trình xuất ra màn hình bảng cửu chương\n",
    "for i in range(1, 10):\n",
    "        print(f\"Bảng cửu chương {i}:\")\n",
    "        for j in range(1, 10):\n",
    "            print(f\"{i} x {j} = {i*j}\", end=\"\\t\")\n",
    "        print()\n",
    "\n"
   ]
  },
  {
   "cell_type": "markdown",
   "id": "e2b41d4a",
   "metadata": {},
   "source": [
    "## Lab 3 - Bài 5: bài tập làm thêm"
   ]
  },
  {
   "cell_type": "code",
   "execution_count": null,
   "id": "0e0172f7",
   "metadata": {},
   "outputs": [],
   "source": [
    "# code lab 3  bài làm thêm ở đây "
   ]
  }
 ],
 "metadata": {
  "kernelspec": {
   "display_name": "Python 3",
   "language": "python",
   "name": "python3"
  },
  "language_info": {
   "codemirror_mode": {
    "name": "ipython",
    "version": 3
   },
   "file_extension": ".py",
   "mimetype": "text/x-python",
   "name": "python",
   "nbconvert_exporter": "python",
   "pygments_lexer": "ipython3",
   "version": "3.13.7"
  }
 },
 "nbformat": 4,
 "nbformat_minor": 5
}
