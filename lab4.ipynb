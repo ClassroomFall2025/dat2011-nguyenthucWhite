{
 "cells": [
  {
   "cell_type": "markdown",
   "id": "fdeff819",
   "metadata": {},
   "source": [
    "# Sinh Viên thực hiện Lab 4 ở Đây"
   ]
  },
  {
   "cell_type": "markdown",
   "id": "acc5d7dc",
   "metadata": {},
   "source": [
    "## Lab 1 - Bài 1"
   ]
  },
  {
   "cell_type": "code",
   "execution_count": null,
   "id": "001e0507",
   "metadata": {},
   "outputs": [
    {
     "name": "stdout",
     "output_type": "stream",
     "text": [
      "Tiền nước tháng này là:  {22500.0} VND\n"
     ]
    }
   ],
   "source": [
    "# Code lab 4 bài 1 ở đây\n",
    "\n",
    "# Viết một hàm để tính tiền nước sinh hoạt theo phương pháp lũy tiến. Tham số truyền vào hàm là số nước sử dụng trong tháng.\n",
    "\n",
    "def tinh_tien_nuoc(so_nuoc):\n",
    "    gia_ban_nuoc = (7500, 8800, 12000, 24000) # Giá bán nước theo từng bậc\n",
    "    if so_nuoc <= 10 and so_nuoc >= 0:\n",
    "        tien_nuoc_thang = so_nuoc*gia_ban_nuoc[0]\n",
    "    elif so_nuoc <= 20:\n",
    "        tien_nuoc_thang = 10 * gia_ban_nuoc[0] * (so_nuoc - 10) * gia_ban_nuoc[1]\n",
    "    elif so_nuoc <= 30:\n",
    "        tien_nuoc_thang = 10 * gia_ban_nuoc[0] * 10 * gia_ban_nuoc[1] + (so_nuoc - 20) * gia_ban_nuoc[2]\n",
    "    else:\n",
    "        tien_nuoc_thang = 10 * gia_ban_nuoc[0] * 10 * gia_ban_nuoc[1] + 10 * gia_ban_nuoc[2] + (so_nuoc - 30) * gia_ban_nuoc[3] \n",
    "    return tien_nuoc_thang\n",
    "\n",
    "so_nuoc = float(input(\"Nhập số nước sử dụng trong tháng (m3): \"))\n",
    "print(\"Tiền nước tháng này là: \", tinh_tien_nuoc(so_nuoc), \"VND\")"
   ]
  },
  {
   "cell_type": "markdown",
   "id": "c0835310",
   "metadata": {},
   "source": [
    "## Lab 4 - Bài 2"
   ]
  },
  {
   "cell_type": "code",
   "execution_count": 17,
   "id": "fa9cb39f",
   "metadata": {},
   "outputs": [
    {
     "name": "stdout",
     "output_type": "stream",
     "text": [
      "Nguyên liệu làm bánh:  {'đường': 1.19, 'đậu': 0.74} Kg\n"
     ]
    }
   ],
   "source": [
    "# Code lab 4  bài 2 ở đây\n",
    "\n",
    "# Một xí nghiệp cần sản xuất 3 loại bánh: bánh đậu xanh, bánh thập cẩm và bánh dẻo. Lượng nguyên liệu đường, đậu cho một bánh mỗi loại như sau:\n",
    "\n",
    "def tinh_nguyen_lieu(sl_bdx, sl_btc, sl_bd):\n",
    "    banh_dau_xanh = {\"đường\": 0.04, \"đậu\": 0.07}\n",
    "    banh_thap_cam = {\"đường\": 0.06, \"đậu\": 0}\n",
    "    banh_deo = {\"đường\": 0.05, \"đậu\": 0.02}\n",
    "    nguyen_lieu = {}\n",
    "    duong_hop_banh = sl_bdx * banh_dau_xanh[\"đường\"] + sl_btc * banh_thap_cam[\"đường\"] + sl_bd * banh_deo[\"đường\"]\n",
    "    dau_hop_banh = sl_bdx * banh_dau_xanh[\"đậu\"] + sl_btc * banh_thap_cam[\"đậu\"] + sl_bd * banh_deo[\"đậu\"]\n",
    "    nguyen_lieu[\"đường\"] = duong_hop_banh\n",
    "    nguyen_lieu[\"đậu\"] = dau_hop_banh\n",
    "    return nguyen_lieu\n",
    "\n",
    "sl_bdx = float(input(\"Nhập số lượng bánh đậu xanh cần sản xuất: \"))\n",
    "sl_btc = float(input(\"Nhập số lượng bánh thập cẩm cần sản xuất: \"))\n",
    "sl_bd = float(input(\"Nhập số lượng bánh dẻo cần sản xuất: \"))\n",
    "print(f\"Nguyên liệu làm bánh: \", tinh_nguyen_lieu(sl_bdx, sl_btc, sl_bd), \"Kg\")"
   ]
  },
  {
   "cell_type": "markdown",
   "id": "0f2483fe",
   "metadata": {},
   "source": [
    "## Lab 4 - Bài 3"
   ]
  },
  {
   "cell_type": "code",
   "execution_count": 19,
   "id": "7034990b",
   "metadata": {},
   "outputs": [
    {
     "name": "stdout",
     "output_type": "stream",
     "text": [
      "Các số chẵn trong dãy số là:  [2, 4, 6, 8]\n",
      "Các số lẻ trong dãy số là:  [1, 3, 5, 7, 9]\n"
     ]
    }
   ],
   "source": [
    "# Code lab 4  bài 3 ở đây\n",
    "\n",
    "# Viết chương trình nhập vào một dãy số nguyên từ bàn phím. Sử dụng hàm lambda để lọc ra các số chẵn từ dãy số. Xuất kết quả ra màn hình.\n",
    "my_list = list(map(int, input(\"Nhập dãy số nguyên, cách nhau bởi dấu cách: \").split()))\n",
    "chan_list = list(filter(lambda x: x % 2 == 0, my_list))\n",
    "le_list = list(filter(lambda x: x % 2 != 0, my_list))\n",
    "print(\"Các số chẵn trong dãy số là: \", chan_list)\n",
    "print(\"Các số lẻ trong dãy số là: \", le_list)\n",
    "\n"
   ]
  },
  {
   "cell_type": "markdown",
   "id": "d36ea3d3",
   "metadata": {},
   "source": [
    "## Lab 4 - Bài 4"
   ]
  },
  {
   "cell_type": "code",
   "execution_count": null,
   "id": "4c707ec1",
   "metadata": {},
   "outputs": [
    {
     "ename": "ModuleNotFoundError",
     "evalue": "No module named 'lab4'",
     "output_type": "error",
     "traceback": [
      "\u001b[31m---------------------------------------------------------------------------\u001b[39m",
      "\u001b[31mModuleNotFoundError\u001b[39m                       Traceback (most recent call last)",
      "\u001b[36mCell\u001b[39m\u001b[36m \u001b[39m\u001b[32mIn[13]\u001b[39m\u001b[32m, line 4\u001b[39m\n\u001b[32m      1\u001b[39m \u001b[38;5;66;03m# code lab 4 bài 4 ở đây\u001b[39;00m\n\u001b[32m      2\u001b[39m \n\u001b[32m      3\u001b[39m \u001b[38;5;66;03m# Viết chương trình tổ chức 1 thực đơn (menu) gồm 3 chức năng để gọi 2 bài của Phần 1 và 1 chức năng để thoát khỏi ứng dụng.\u001b[39;00m\n\u001b[32m----> \u001b[39m\u001b[32m4\u001b[39m \u001b[38;5;28;01mimport\u001b[39;00m\u001b[38;5;250m \u001b[39m\u001b[34;01mlab4\u001b[39;00m\n\u001b[32m      6\u001b[39m \u001b[38;5;28;01mwhile\u001b[39;00m \u001b[38;5;28;01mTrue\u001b[39;00m:\n\u001b[32m      7\u001b[39m     \u001b[38;5;28mprint\u001b[39m(\u001b[32m10\u001b[39m * \u001b[33m\"\u001b[39m\u001b[33m-\u001b[39m\u001b[33m\"\u001b[39m,\u001b[33m\"\u001b[39m\u001b[33mCTHT\u001b[39m\u001b[33m\"\u001b[39m ,\u001b[32m10\u001b[39m * \u001b[33m\"\u001b[39m\u001b[33m-\u001b[39m\u001b[33m\"\u001b[39m)\n",
      "\u001b[31mModuleNotFoundError\u001b[39m: No module named 'lab4'"
     ]
    }
   ],
   "source": [
    "# code lab 4 bài 4 ở đây\n",
    "\n",
    "# Viết chương trình tổ chức 1 thực đơn (menu) gồm 3 chức năng để gọi 2 bài của Phần 1 và 1 chức năng để thoát khỏi ứng dụng.\n",
    "import lab4\n",
    "\n",
    "while True:\n",
    "    print(10 * \"-\",\"CTHT\" ,10 * \"-\")\n",
    "    print(\"1. Tính tiền nước sinh hoạt\")\n",
    "    print(\"2. Tính nguyên liệu làm bánh\")\n",
    "    print(\"3. Thoát\")\n",
    "    print(10 * \"-\",\"CTHT\" ,10 * \"-\")\n",
    "    Lua_chon = input(\"Chọn chức năng (1-3): \")\n",
    "    print()\n",
    "    \n",
    "    if Lua_chon == '1':\n",
    "        so_nuoc = float(input(\"Nhập số nước sử dụng trong tháng (m3): \"))\n",
    "        print(\"Tiền nước tháng này là: \", tinh_tien_nuoc(so_nuoc), \"VND\")\n",
    "    elif Lua_chon == '2':\n",
    "        sl_bdx = float(input(\"Nhập số lượng bánh đậu xanh cần sản xuất: \"))\n",
    "        sl_btc = float(input(\"Nhập số lượng bánh thập cẩm cần sản xuất: \"))\n",
    "        sl_bd = float(input(\"Nhập số lượng bánh dẻo cần sản xuất: \"))\n",
    "        print(f\"Nguyên liệu làm bánh: \", tinh_nguyen_lieu(sl_bdx, sl_btc, sl_bd), \"Kg\")\n",
    "    elif Lua_chon == '3':\n",
    "        print(\"Thoát chương trình.\")\n",
    "        break\n",
    "    else:\n",
    "        print(\"Lựa chọn không hợp lệ. Vui lòng chọn lại.\")"
   ]
  },
  {
   "cell_type": "code",
   "execution_count": null,
   "id": "1e839175",
   "metadata": {},
   "outputs": [
    {
     "ename": "ModuleNotFoundError",
     "evalue": "No module named 'lab4'",
     "output_type": "error",
     "traceback": [
      "\u001b[31m---------------------------------------------------------------------------\u001b[39m",
      "\u001b[31mModuleNotFoundError\u001b[39m                       Traceback (most recent call last)",
      "\u001b[36mCell\u001b[39m\u001b[36m \u001b[39m\u001b[32mIn[2]\u001b[39m\u001b[32m, line 1\u001b[39m\n\u001b[32m----> \u001b[39m\u001b[32m1\u001b[39m \u001b[38;5;28;01mimport\u001b[39;00m\u001b[38;5;250m \u001b[39m\u001b[34;01mlab4\u001b[39;00m\n\u001b[32m      3\u001b[39m menu = {\n\u001b[32m      4\u001b[39m     \u001b[33m\"\u001b[39m\u001b[33m1\u001b[39m\u001b[33m\"\u001b[39m: \u001b[33m\"\u001b[39m\u001b[33mtính tiền nước sinh hoạt\u001b[39m\u001b[33m\"\u001b[39m,\n\u001b[32m      5\u001b[39m     \u001b[33m\"\u001b[39m\u001b[33m2\u001b[39m\u001b[33m\"\u001b[39m: \u001b[33m\"\u001b[39m\u001b[33mtính nguyên liệu làm bánh\u001b[39m\u001b[33m\"\u001b[39m,\n\u001b[32m      6\u001b[39m     \u001b[33m\"\u001b[39m\u001b[33m3\u001b[39m\u001b[33m\"\u001b[39m: \u001b[33m\"\u001b[39m\u001b[33mthoát\u001b[39m\u001b[33m\"\u001b[39m\n\u001b[32m      7\u001b[39m }\n\u001b[32m      8\u001b[39m \u001b[38;5;28;01mwhile\u001b[39;00m \u001b[38;5;28;01mTrue\u001b[39;00m:\n",
      "\u001b[31mModuleNotFoundError\u001b[39m: No module named 'lab4'"
     ]
    }
   ],
   "source": [
    "import lab4\n",
    "\n",
    "menu = {\n",
    "    \"1\": \"tính tiền nước sinh hoạt\",\n",
    "    \"2\": \"tính nguyên liệu làm bánh\",\n",
    "    \"3\": \"thoát\"\n",
    "}\n",
    "while True:\n",
    "    print(\"===\"*10 + \"MENU\" + \"===\"*10)\n",
    "    for k, v in menu.items():\n",
    "        print(f\"{k}. {v}\")\n",
    "    print(\"===\"*10 + \"MENU\" + \"===\"*10)\n",
    "    print(\"Lựa chọn chương trình\")\n",
    "    lUA_CHON = input(\"Chọn chức năng (1-3): \")\n",
    "    print()\n",
    "    if lUA_CHON == \"1\":\n",
    "        so_nuoc = float(input(\"Nhập số nước sử dụng trong tháng (m3): \"))\n",
    "        print(\"Tiền nước tháng này là: \", tinh_tien_nuoc(so_nuoc), \"VND\")\n",
    "    elif lUA_CHON == \"2\":\n",
    "        sl_bdx = float(input(\"Nhập số lượng bánh đậu xanh cần sản xuất: \"))\n",
    "        sl_btc = float(input(\"Nhập số lượng bánh thập cẩm cần sản xuất: \"))\n",
    "        sl_bd = float(input(\"Nhập số lượng bánh dẻo cần sản xuất: \"))\n",
    "        print(f\"Nguyên liệu làm bánh: \", tinh_nguyen_lieu(sl_bdx, sl_btc, sl_bd), \"Kg\")\n",
    "    elif lUA_CHON == \"3\":\n",
    "        print(\"Thoát chương trình.\")\n",
    "        break\n",
    "    else:\n",
    "        print(\"Lựa chọn không hợp lệ. Vui lòng chọn lại.\")"
   ]
  },
  {
   "cell_type": "markdown",
   "id": "e2b41d4a",
   "metadata": {},
   "source": [
    "## Lab 4 - Bài 5: bài tập làm thêm"
   ]
  },
  {
   "cell_type": "code",
   "execution_count": null,
   "id": "0e0172f7",
   "metadata": {},
   "outputs": [],
   "source": [
    "# code lab 4  bài làm thêm ở đây "
   ]
  }
 ],
 "metadata": {
  "kernelspec": {
   "display_name": "Python 3",
   "language": "python",
   "name": "python3"
  },
  "language_info": {
   "codemirror_mode": {
    "name": "ipython",
    "version": 3
   },
   "file_extension": ".py",
   "mimetype": "text/x-python",
   "name": "python",
   "nbconvert_exporter": "python",
   "pygments_lexer": "ipython3",
   "version": "3.13.7"
  }
 },
 "nbformat": 4,
 "nbformat_minor": 5
}
