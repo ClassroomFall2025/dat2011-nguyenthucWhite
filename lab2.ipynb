{
 "cells": [
  {
   "cell_type": "markdown",
   "id": "fdeff819",
   "metadata": {},
   "source": [
    "# Sinh Viên thực hiện Lab 2 ở Đây"
   ]
  },
  {
   "cell_type": "markdown",
   "id": "acc5d7dc",
   "metadata": {},
   "source": [
    "## Lab 2 - Bài 1"
   ]
  },
  {
   "cell_type": "code",
   "execution_count": 1,
   "id": "001e0507",
   "metadata": {},
   "outputs": [
    {
     "name": "stdout",
     "output_type": "stream",
     "text": [
      "Từ 'con người' có trong chuỗi không?: True\n",
      "Từ tìm kiếm: con người\n",
      "Từ chuyển thành chữ hoa: CON NGƯỜI\n"
     ]
    }
   ],
   "source": [
    "# Code lab 2 bài 1 ở đây\n",
    "\n",
    "# Sử dụng 1 biến kiểu chuỗi để lưu bài thơ sau:\n",
    "BaiTho = '''Kiếp con người mong manh như là gió  \n",
    "Sống trên đời có được mấy lần vui  \n",
    "Sao phải đau mà không thể mỉm cười  \n",
    "Gắng buông nỗi ngậm ngùi nơi quá khứ  \n",
    "\n",
    "Nếu có thể sao ta không làm thử  \n",
    "Để tâm hồn khắc hai chữ bình an  \n",
    "Cho đôi chân bước thanh thản nhẹ nhàng  \n",
    "Dù hướng đời có muôn ngàn đá sỏi'''\n",
    "\n",
    "# Kiểm tra từ “con người” có trong chuỗi hay không?\n",
    "check = \"con người\" in BaiTho\n",
    "print(\"Từ 'con người' có trong chuỗi không?:\", check)\n",
    "\n",
    "# Sử dụng cú pháp trích ra 1 phần của chuỗi để lấy từ “con người” trong câu đầu tiên \n",
    "tu_tim_kiem = input(\"Nhập từ cần tìm: \")\n",
    "index1 = BaiTho.find(tu_tim_kiem) # Tìm vị trí của từ \"con người\"\n",
    "index2 = index1 + len(tu_tim_kiem) # Tính vị trí kết thúc của từ \"con người\"\n",
    "tu_tim_kiem_kq = BaiTho[index1:index2] # Trích xuất từ \"con người\"\n",
    "print(\"Từ tìm kiếm:\", tu_tim_kiem_kq)\n",
    "\n",
    "# Chuyển từ “con người” thành chữ hoa và xuất ra màn hình\n",
    "Chuyen_hoa = tu_tim_kiem_kq.upper()\n",
    "print(\"Từ chuyển thành chữ hoa:\", Chuyen_hoa)"
   ]
  },
  {
   "cell_type": "markdown",
   "id": "c0835310",
   "metadata": {},
   "source": [
    "## Lab 2 - Bài 2"
   ]
  },
  {
   "cell_type": "code",
   "execution_count": 20,
   "id": "fa9cb39f",
   "metadata": {},
   "outputs": [
    {
     "name": "stdout",
     "output_type": "stream",
     "text": [
      "Kiếp con người mong manh như là gió  \n",
      "Sống trên đời có được mấy lần vui  \n",
      "Sao phải đau mà không thể mỉm cười  \n",
      "Gắng buông nỗi ngậm ngùi nơi quá khứ  \n",
      "\n",
      "Nếu có thể sao ta không làm thử  \n",
      "Để tâm hồn khắc hai chữ bình an  \n",
      "Cho đôi chân bước thanh thản nhẹ nhàng  \n",
      "Dù hướng đời có muôn ngàn đá sỏi\n",
      "\n",
      "-------------------------------------------\n",
      "\n",
      "\"... Kiếp con người mong manh như là gió  \n",
      "Sống trên đời có được mấy lần vui  \n",
      "Sao phải đau mà không thể mỉm cười  \n",
      "Gắng buông nỗi ngậm ngùi nơi quá khứ  \n",
      "\n",
      "Nếu có thể sao ta không làm thử  \n",
      "Để tâm hồn khắc hai chữ hạnh phúc  \n",
      "Cho đôi chân bước thanh thản nhẹ nhàng  \n",
      "Dù hướng đời có muôn ngàn đá sỏi ...\"\n"
     ]
    }
   ],
   "source": [
    "# Code lab 2  bài 2 ở đây\n",
    "\n",
    "# Sử dụng 1 biến để lưu bài thơ có trong bài 1:\n",
    "print(BaiTho)\n",
    "print()\n",
    "print(\"-------------------------------------------\")\n",
    "print()\n",
    "\n",
    "# Thay thế từ \"bình an\" thành \"hạnh phúc\"\n",
    "BaiTho_ChinhSua = BaiTho.replace(\"bình an\", \"hạnh phúc\")\n",
    "\n",
    "# Ghép thêm cụm ký tự “… vào đầu bài thơ và …” vào cuối bài thơ.   \n",
    "BaiTho_ChinhSua = '\"... ' + BaiTho_ChinhSua + ' ...\"'\n",
    "\n",
    "# Xuất bài thơ đã được thay thế từ ra màn hình.\n",
    "print(BaiTho_ChinhSua)\n"
   ]
  },
  {
   "cell_type": "markdown",
   "id": "0f2483fe",
   "metadata": {},
   "source": [
    "## Lab 2 - Bài 3"
   ]
  },
  {
   "cell_type": "code",
   "execution_count": 35,
   "id": "7034990b",
   "metadata": {},
   "outputs": [
    {
     "name": "stdout",
     "output_type": "stream",
     "text": [
      "Nghiệm của phương trình là: x = -4.0\n"
     ]
    }
   ],
   "source": [
    "# Code lab 2  bài 3 ở đây\n",
    "\n",
    "# Viết chương trình cho phép giải phương trình bậc nhất trong đó các hệ số a và b  nhập từ bàn phím. \n",
    "a = float(input(\"Nhập hệ số a: \"))\n",
    "b = float(input(\"Nhập hệ số b: \"))\n",
    "if a == 0:\n",
    "    if b == 0:\n",
    "        print(\"Phương trình vô số nghiệm.\")\n",
    "    else:\n",
    "        print(\"Phương trình vô nghiệm.\")\n",
    "else:\n",
    "    x = -b / a\n",
    "    print(\"Nghiệm của phương trình là: x =\", x)"
   ]
  },
  {
   "cell_type": "markdown",
   "id": "d36ea3d3",
   "metadata": {},
   "source": [
    "## Lab 2 - Bài 4"
   ]
  },
  {
   "cell_type": "code",
   "execution_count": null,
   "id": "4c707ec1",
   "metadata": {},
   "outputs": [
    {
     "name": "stdout",
     "output_type": "stream",
     "text": [
      "Phương trình có một nghiệm: x = 1.0\n",
      "---- Phương trình bậc nhất ----\n"
     ]
    }
   ],
   "source": [
    "# code lab 2 bài 4 ở đây\n",
    "\n",
    "# Viết chương trình cho phép giải phương trình bậc hai trong đó các hệ số a, b và c  nhập từ bàn phím. \n",
    "import math\n",
    "a = float(input(\"Nhập hệ số a:\"))\n",
    "b = float(input(\"Nhập hệ số b: \"))\n",
    "c = float(input(\"Nhập hệ số c: \"))\n",
    "# Kiểm tra nếu a = 0 thì gọi chương trình giải phương trình bậc nhất.\n",
    "if a == 0:\n",
    "    if b == 0:\n",
    "        if c == 0:\n",
    "            print(\"Phương trình vô số nghiệm.\")\n",
    "        else:\n",
    "            print(\"Phương trình vô nghiệm.\")\n",
    "    else:\n",
    "        x = -c / b\n",
    "        print(\"Phương trình có một nghiệm: x =\", x)\n",
    "        print(\"---- Phương trình bậc nhất ----\")\n",
    "# Nếu a khác 0 thì giải phương trình bậc hai.\n",
    "elif a != 0:\n",
    "    delta = b**2 - 4*a*c\n",
    "    if delta < 0:\n",
    "        print(\"Phương trình vô nghiệm.\")\n",
    "    elif delta == 0:\n",
    "        x = -b / (2*a)\n",
    "        print(\"Phương trình có nghiệm kép: x1, x2 =\", x)\n",
    "    else:\n",
    "        x1 = (-b + math.sqrt(delta)) / (2*a)\n",
    "        x2 = (-b - math.sqrt(delta)) / (2*a)\n",
    "        print(\"Phương trình có hai nghiệm phân biệt: x1 =\", x1, \", x2 =\", x2)\n",
    "\n",
    "\n"
   ]
  },
  {
   "cell_type": "markdown",
   "id": "e2b41d4a",
   "metadata": {},
   "source": [
    "## Lab 2 - Bài 5: bài tập làm thêm"
   ]
  },
  {
   "cell_type": "code",
   "execution_count": null,
   "id": "0e0172f7",
   "metadata": {},
   "outputs": [],
   "source": [
    "# code lab 2  bài làm thêm ở đây \n",
    "\n"
   ]
  }
 ],
 "metadata": {
  "kernelspec": {
   "display_name": "Python 3",
   "language": "python",
   "name": "python3"
  },
  "language_info": {
   "codemirror_mode": {
    "name": "ipython",
    "version": 3
   },
   "file_extension": ".py",
   "mimetype": "text/x-python",
   "name": "python",
   "nbconvert_exporter": "python",
   "pygments_lexer": "ipython3",
   "version": "3.13.7"
  }
 },
 "nbformat": 4,
 "nbformat_minor": 5
}
