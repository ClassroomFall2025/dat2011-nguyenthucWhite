{
 "cells": [
  {
   "cell_type": "markdown",
   "id": "fdeff819",
   "metadata": {},
   "source": [
    "# Sinh Viên thực hiện Lab 6 ở Đây"
   ]
  },
  {
   "cell_type": "markdown",
   "id": "acc5d7dc",
   "metadata": {},
   "source": [
    "## Lab 6 - Bài 1"
   ]
  },
  {
   "cell_type": "code",
   "execution_count": null,
   "id": "001e0507",
   "metadata": {},
   "outputs": [
    {
     "name": "stdout",
     "output_type": "stream",
     "text": [
      "Nhập thông tin 2 hình chữ nhật\n",
      "Thông tin hình chữ nhật\n",
      "Hình chữ nhật\n",
      "Chiều dài: 7.0\n",
      "Chiều rộng: 9.0\n",
      "Chu vi: 32.0\n",
      "Diện tích: 63.0\n",
      "------------------------------\n",
      "Hình chữ nhật\n",
      "Chiều dài: 5.0\n",
      "Chiều rộng: 6.0\n",
      "Chu vi: 22.0\n",
      "Diện tích: 30.0\n",
      "------------------------------\n",
      "Nhập thông hình vuông\n",
      "Thông tin hình vuông\n",
      "Hình vuông\n",
      "Cạnh: 8.0\n",
      "Diện tích: 64.0\n",
      "Chu vi: 32.0\n"
     ]
    }
   ],
   "source": [
    "# Code lab 6 bài 1 ở đây\n",
    "\n",
    "from lab6hinhchunhat import *\n",
    "\n",
    "print(f\"Nhập thông tin 2 hình chữ nhật\")\n",
    "cn1_dai = float(input(\"Nhập chiều dài hình CN1: \"))\n",
    "cn1_rong = float(input(\"Nhập chiều rộng hình CN1: \"))\n",
    "cn2_dai = float(input(\"Nhập Chiều dài hình CN2: \"))\n",
    "cn2_rong = float(input(\"Nhập chiều rộng hình CN2: \"))\n",
    "\n",
    "cn1 = ChuNhat(cn1_dai, cn1_rong)\n",
    "cn2 = ChuNhat(cn2_dai, cn2_rong)\n",
    "print(f\"Thông tin hình chữ nhật\")\n",
    "cn1.Xuat()\n",
    "cn2.Xuat()\n",
    "\n",
    "print(f\"Nhập thông hình vuông\")\n",
    "v_canh = float(input(\"Nhập cạnh hình vuông: \"))\n",
    "v = Vuong(v_canh)\n",
    "print(f\"Thông tin hình vuông\")\n",
    "v.Xuat()"
   ]
  },
  {
   "cell_type": "markdown",
   "id": "c0835310",
   "metadata": {},
   "source": [
    "## Lab 6 - Bài 2"
   ]
  },
  {
   "cell_type": "code",
   "execution_count": null,
   "id": "fa9cb39f",
   "metadata": {},
   "outputs": [],
   "source": [
    "# Code lab 6  bài 2 ở đây\n",
    "class SinhVienPoLy:\n",
    "    # Khởi tạo các thuộc tính\n",
    "    def __init__(self, ho_ten, nganh_hoc):\n",
    "        self.__ho_ten = ho_ten\n",
    "        self.__nganh_hoc = nganh_hoc\n",
    "    # tính điểm\n",
    "    def get_diem(self):\n",
    "        pass\n",
    "    # xếp học lực\n",
    "    def get_hoc_luc(self):\n",
    "        if self.get_diem() >= 9 and self.get_diem() <= 10:\n",
    "            hoc_luc = \"Xuất sắc\"\n",
    "        elif self.get_diem() >= 8:\n",
    "            hoc_luc = \"Giỏi\"\n",
    "        elif self.get_diem() >= 7:\n",
    "            hoc_luc = \"Khá\"\n",
    "        elif self.get_diem() >= 5:\n",
    "            hoc_luc = \"Trung Bình\"\n",
    "        elif self.get_diem() >= 0:\n",
    "            hoc_luc = \"Chưa Đạt\"\n",
    "        else:\n",
    "            print(\"Điểm không hợp lệ!\")\n",
    "        return hoc_luc\n",
    "    # Xuất thông tin sinh viên\n",
    "    def Xuat_danh_sach_sinh_vien(self):\n",
    "        print(f\"{self.__ho_ten}, {self.__nganh_hoc}, {self.get_diem()}, {self.get_hoc_luc()}\")\n",
    "    def __str__(self):\n",
    "        return f\"{self.__ho_ten}, {self.__nganh_hoc}, {self.get_diem()}, {self.get_hoc_luc()}\""
   ]
  },
  {
   "cell_type": "markdown",
   "id": "0f2483fe",
   "metadata": {},
   "source": [
    "## Lab 6 - Bài 3"
   ]
  },
  {
   "cell_type": "code",
   "execution_count": null,
   "id": "7034990b",
   "metadata": {},
   "outputs": [],
   "source": [
    "# Code lab 6  bài 3 ở đây\n",
    "class SinhVienIT(SinhVienPoLy):\n",
    "    def __init__(self, ho_ten, nganh_hoc, diem_Java, diem_html, diem_css):\n",
    "        super().__init__(ho_ten, nganh_hoc)\n",
    "        self.__diem_Java = diem_Java\n",
    "        self.__diem_html = diem_html\n",
    "        self.__diem_css = diem_css\n",
    "    def get_diem(self):\n",
    "        return (self.__diem_Java * 2 + self.__diem_html + self.__diem_css) / 4\n",
    "        \n",
    "class SinhVienBiz(SinhVienPoLy):\n",
    "    def __init__(self, ho_ten, nganh_hoc, diem_marketing, diem_sales):\n",
    "        super().__init__(ho_ten, nganh_hoc)\n",
    "        self.__diem_marketing = diem_marketing\n",
    "        self.__diem_sales = diem_sales\n",
    "    def get_diem(self):\n",
    "        return (self.__diem_marketing * 2 + self.__diem_sales) / 3"
   ]
  },
  {
   "cell_type": "markdown",
   "id": "d36ea3d3",
   "metadata": {},
   "source": [
    "## Lab 6 - Bài 4"
   ]
  },
  {
   "cell_type": "code",
   "execution_count": 1,
   "id": "4c707ec1",
   "metadata": {},
   "outputs": [
    {
     "name": "stdout",
     "output_type": "stream",
     "text": [
      "============================== :Menu: ==============================\n",
      "1. Nhập danh sách sinh viên.\n",
      "2. Xuất thông tin danh sách sinh viên.\n",
      "3. Xuất danh sách sinh viên có học lực giỏi.\n",
      "4. Sắp xếp danh sách sinh viên theo điểm.\n",
      "5. Thoát chương trình.\n",
      "============================== :Menu: ==============================\n",
      "Nhập danh sách sinh viên\n",
      "============================== :Menu: ==============================\n",
      "1. Nhập danh sách sinh viên.\n",
      "2. Xuất thông tin danh sách sinh viên.\n",
      "3. Xuất danh sách sinh viên có học lực giỏi.\n",
      "4. Sắp xếp danh sách sinh viên theo điểm.\n",
      "5. Thoát chương trình.\n",
      "============================== :Menu: ==============================\n",
      "Xuất thông tin danh sách sinh viên\n",
      "họ tên sinh viên, ngành học, điểm, học lực\n",
      "Thức, it, 8.0, Giỏi\n",
      "============================== :Menu: ==============================\n",
      "1. Nhập danh sách sinh viên.\n",
      "2. Xuất thông tin danh sách sinh viên.\n",
      "3. Xuất danh sách sinh viên có học lực giỏi.\n",
      "4. Sắp xếp danh sách sinh viên theo điểm.\n",
      "5. Thoát chương trình.\n",
      "============================== :Menu: ==============================\n",
      "Thoát chương trình\n"
     ]
    }
   ],
   "source": [
    "# code lab 6 bài 4 ở đây\n",
    "# Viết chương trình quản lý sinh viên:\n",
    "# Nhập danh sách sinh viên\n",
    "# Xuất thông tin danh sách sinh viên\n",
    "# Xuất danh sách sinh viên có học lực giỏi\n",
    "# Sắp xếp danh sách sinh viên theo điểm\n",
    "# Kết thúc\n",
    "from lab6quanlysinhvien import *\n",
    "ql = QuanLySinhVien()\n",
    "while True:\n",
    "    print(10*\"===\", \":Menu:\", 10*\"===\")\n",
    "    print(\"1. Nhập danh sách sinh viên.\")\n",
    "    print(\"2. Xuất thông tin danh sách sinh viên.\")\n",
    "    print(\"3. Xuất danh sách sinh viên có học lực giỏi.\")\n",
    "    print(\"4. Sắp xếp danh sách sinh viên theo điểm.\")\n",
    "    print(\"5. Thoát chương trình.\")\n",
    "    print(10*\"===\", \":Menu:\", 10*\"===\")\n",
    "    Lựa_chọn = input(\"Chọn chức năng từ (1-5): \")\n",
    "    if Lựa_chọn == '1':\n",
    "        print(\"Nhập danh sách sinh viên\")\n",
    "        ql.nhap_danh_sach_sinh_vien()\n",
    "    elif Lựa_chọn == '2':\n",
    "        print(\"Xuất thông tin danh sách sinh viên\")\n",
    "        ql.Xuat_danh_sach_sinh_vien()\n",
    "    elif Lựa_chọn == '3':\n",
    "        print(\"Xuất danh sách sinh viên có học lực giỏi\")\n",
    "    elif Lựa_chọn == '4':\n",
    "        print(\"Sắp xếp danh sách sinh viên theo điểm\")\n",
    "    elif Lựa_chọn == '5':\n",
    "        print(\"Thoát chương trình\")\n",
    "        break\n",
    "    else:\n",
    "        print(\"Nhập chức năng không đúng, vui lòng nhập lại\")"
   ]
  },
  {
   "cell_type": "markdown",
   "id": "e2b41d4a",
   "metadata": {},
   "source": [
    "## Lab 6 - Bài 5: bài tập làm thêm"
   ]
  },
  {
   "cell_type": "code",
   "execution_count": null,
   "id": "0e0172f7",
   "metadata": {},
   "outputs": [],
   "source": [
    "# code lab 6  bài làm thêm ở đây "
   ]
  }
 ],
 "metadata": {
  "kernelspec": {
   "display_name": "Python 3",
   "language": "python",
   "name": "python3"
  },
  "language_info": {
   "codemirror_mode": {
    "name": "ipython",
    "version": 3
   },
   "file_extension": ".py",
   "mimetype": "text/x-python",
   "name": "python",
   "nbconvert_exporter": "python",
   "pygments_lexer": "ipython3",
   "version": "3.13.7"
  }
 },
 "nbformat": 4,
 "nbformat_minor": 5
}
