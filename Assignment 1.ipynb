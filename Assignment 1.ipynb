{
 "cells": [
  {
   "cell_type": "code",
   "execution_count": 1,
   "id": "1c5be7fb",
   "metadata": {},
   "outputs": [
    {
     "name": "stdout",
     "output_type": "stream",
     "text": [
      "============================== :Menu: ==============================\n",
      "1. Nhập danh sách nhân viên và lưu thông tin nhân viên vào file.\n",
      "2. Đọc thông tin nhân viên từ file và xuất danh sách nhân viên.\n",
      "3. Tìm và hiển thị nhân viên theo mã nhập từ bàn phím.\n",
      "4. Xóa nhân viên theo mã nhập. Cập nhật file dữ liệu.\n",
      "5. Cập nhật thông tin nhân viên theo mã nhập và ghi thay đổi vào file.\n",
      "6. Tìm các nhân viên theo khoảng lương nhập từ bàn phím.\n",
      "7. Sắp xếp nhân viên theo họ và tên.\n",
      "8. Sắp xếp nhân viên theo thu nhập.\n",
      "9. Xuất 5 nhân viên có thu nhập cao nhất.\n",
      "10. Thoát chương trình.\n",
      "============================== :Menu: ==============================\n",
      "\n",
      "Thoát chương trình.\n"
     ]
    }
   ],
   "source": [
    "# Viết ASM 1\n",
    "# YÊU CẦU:\n",
    "# Y1. Nhập danh sách nhân viên từ bàn phím. Lưu thông tin nhân viên vào file.\n",
    "# Y2. Đọc thông tin nhân viên từ file và xuất danh sách nhân viên ra màn hình.\n",
    "# Y3. Tìm và hiển thị nhân viên theo mã nhập từ bàn phím.\n",
    "# Y4. Xóa nhân viên theo mã nhập từ bàn phím. Cập nhật file dữ liệu.\n",
    "# Y5. Cập nhật thông tin nhân viên theo mã nhập từ bàn phím và ghi thay đổi vào file.\n",
    "# Y6. Tìm các nhân viên theo khoảng lương nhập từ bàn phím.\n",
    "# Y7. Sắp xếp nhân viên theo họ và tên.\n",
    "# Y8. Sắp xếp nhân viên theo thu nhập.\n",
    "# Y9. Xuất 5 nhân viên có thu nhập cao nhất.\n",
    "\n",
    "# Giai đoạn 1: Phân tích và thiết kế\n",
    "# Viết hệ thống menu gồm các chức năng cần thiết và viết mã gọi đúng hàm chức năng\n",
    "# (các chức năng chỉ xuất dòng chữ tên chức năng mà chưa cần phải viết mã xử lý nghiệp vụ)\n",
    "\n",
    "while True:\n",
    "    print(10*\"===\", \":Menu:\", 10*\"===\")\n",
    "    print(\"1. Nhập danh sách nhân viên và lưu thông tin nhân viên vào file.\")\n",
    "    print(\"2. Đọc thông tin nhân viên từ file và xuất danh sách nhân viên.\")\n",
    "    print(\"3. Tìm và hiển thị nhân viên theo mã nhập từ bàn phím.\")\n",
    "    print(\"4. Xóa nhân viên theo mã nhập. Cập nhật file dữ liệu.\")\n",
    "    print(\"5. Cập nhật thông tin nhân viên theo mã nhập và ghi thay đổi vào file.\")\n",
    "    print(\"6. Tìm các nhân viên theo khoảng lương nhập từ bàn phím.\")\n",
    "    print(\"7. Sắp xếp nhân viên theo họ và tên.\")\n",
    "    print(\"8. Sắp xếp nhân viên theo thu nhập.\")\n",
    "    print(\"9. Xuất 5 nhân viên có thu nhập cao nhất.\")\n",
    "    print(\"10. Thoát chương trình.\")\n",
    "    print(10*\"===\", \":Menu:\", 10*\"===\")\n",
    "    Lựa_chọn = input(\"Nhập lựa chọn của bạn (1-10): \")\n",
    "    print()\n",
    "    if Lựa_chọn == '1':\n",
    "        print(\"Chức năng 1: Nhập danh sách nhân viên và lưu thông tin nhân viên vào file.\")\n",
    "    elif Lựa_chọn == '2':\n",
    "        print(\"Chức năng 2: Đọc thông tin nhân viên từ file và xuất danh sách nhân viên.\")\n",
    "    elif Lựa_chọn == '3':\n",
    "        print(\"Chức năng 3: Tìm và hiển thị nhân viên theo mã nhập từ bàn phím.\")\n",
    "    elif Lựa_chọn == '4':\n",
    "        print(\"Chức năng 4: Xóa nhân viên theo mã nhập. Cập nhật file dữ liệu.\")\n",
    "    elif Lựa_chọn == '5':\n",
    "        print(\"Chức năng 5: Cập nhật thông tin nhân viên theo mã nhập và ghi thay đổi vào file.\")\n",
    "    elif Lựa_chọn == '6':\n",
    "        print(\"Chức năng 6: Tìm các nhân viên theo khoảng lương nhập từ bàn phím.\")\n",
    "    elif Lựa_chọn == '7':\n",
    "        print(\"Chức năng 7: Sắp xếp nhân viên theo họ và tên.\")\n",
    "    elif Lựa_chọn == '8':\n",
    "        print(\"Chức năng 8: Sắp xếp nhân viên theo thu nhập.\")\n",
    "    elif Lựa_chọn == '9':\n",
    "        print(\"Chức năng 9: Xuất 5 nhân viên có thu nhập cao nhất.\")\n",
    "    else:\n",
    "        print(\"Thoát chương trình.\")\n",
    "        break"
   ]
  }
 ],
 "metadata": {
  "kernelspec": {
   "display_name": "Python 3",
   "language": "python",
   "name": "python3"
  },
  "language_info": {
   "codemirror_mode": {
    "name": "ipython",
    "version": 3
   },
   "file_extension": ".py",
   "mimetype": "text/x-python",
   "name": "python",
   "nbconvert_exporter": "python",
   "pygments_lexer": "ipython3",
   "version": "3.13.7"
  }
 },
 "nbformat": 4,
 "nbformat_minor": 5
}
