{
 "cells": [
  {
   "cell_type": "markdown",
   "id": "fdeff819",
   "metadata": {},
   "source": [
    "# Sinh Viên thực hiện Lab 7 ở Đây"
   ]
  },
  {
   "cell_type": "code",
   "execution_count": null,
   "id": "563f593a",
   "metadata": {},
   "outputs": [],
   "source": [
    "# Hàm open()\n",
    "# Có 2 tham số: filename (tên file) và mode (chế độ mở file)\n",
    "# Có 4 chế độ mở file khác nhau:\n",
    "# “r” – Read – Giá trị mặc định. Mở file để đọc\n",
    "# “a” – Append – Mở file để viết tiếp\n",
    "# “w” – Write – Mở file để ghi\n",
    "# “x” – Create – Tạo file\n",
    "# Ngoài ra, có thể xác định file nên được quản lý như binary hay text\n",
    "# “t” – Text – Giá trị mặc định. Chế độ văn bản\n",
    "# “b” – Binary – Chế độ nhị phân (ví dụ các ảnh)\n"
   ]
  },
  {
   "cell_type": "markdown",
   "id": "acc5d7dc",
   "metadata": {},
   "source": [
    "## Lab 7 - Bài 1"
   ]
  },
  {
   "cell_type": "code",
   "execution_count": null,
   "id": "001e0507",
   "metadata": {},
   "outputs": [
    {
     "name": "stdout",
     "output_type": "stream",
     "text": [
      "Tự nguyện\n",
      "Trương Quốc Khánh\n",
      "Nếu là chim, tôi sẽ là loài bồ câu trắng\n",
      "Nếu là hoa, tôi sẽ là một đóa hướng dương\n",
      "Nếu là mây, tôi sẽ là một vầng mây ấm\n",
      "Là người, tôi sẽ chết cho quê hương.\n",
      "\n",
      "Là chim, tôi sẽ cất cao đôi cánh mềm\n",
      "Từ nam ra ngoài bắc báo tin nối liền\n",
      "Là hoa, tôi nở tình yêu ban sớm\n",
      "Cùng muôn trái tim ngất ngây hoà bình.\n",
      "\n",
      "Là mây, theo làn gió tung bay khắp trời\n",
      "Nghìn xưa oai hùng đó tôi xin tiếp lời\n",
      "Là người, xin một lần khi nằm xuống\n",
      "Nhìn anh em đứng lên phất cao ngọn cờ.\n",
      "----------------------------------------\n",
      "Tự nguyện\n",
      "----------------------------------------\n",
      "Trương Quốc Khánh\n"
     ]
    }
   ],
   "source": [
    "# Code lab 7 bài 1 ở đây\n",
    "\n",
    "# Đọc toàn bộ nội dung của file \n",
    "with open(\"Resource.txt\", \"r\", encoding=\"utf-8\") as file:\n",
    "    noidung = file.read()\n",
    "    print(noidung)\n",
    "    print(\"-\"*40)\n",
    "\n",
    "# Đọc và xuất ra màn hình tên bài thơ (9 ký tự đầu tiên)\n",
    "with open(\"Resource.txt\", \"r\", encoding=\"utf-8\") as file:\n",
    "    noidung = file.readline(9)\n",
    "    print(noidung)\n",
    "    print(\"-\"*40)\n",
    "# Đọc và xuất ra màn hình tên tác giả (dòng thứ hai)\n",
    "with open(\"Resource.txt\", \"r\", encoding=\"utf-8\") as file:\n",
    "    file.readline()\n",
    "    noidung = file.readline(17)\n",
    "    print(noidung)\n"
   ]
  },
  {
   "cell_type": "markdown",
   "id": "c0835310",
   "metadata": {},
   "source": [
    "## Lab 7 - Bài 2"
   ]
  },
  {
   "cell_type": "code",
   "execution_count": null,
   "id": "fa9cb39f",
   "metadata": {},
   "outputs": [],
   "source": [
    "# Code lab 7  bài 2 ở đây\n",
    "\n",
    "# Tạo 1 file mới, đặt tên file là Lab7-Exercise2.txt. Ghi nội dung sau vào file:\n",
    "#with open(\"Lab7-Exercise2.txt\", \"x\", encoding=\"utf-8\") as file:#  code tạo file Lab7-Exercise2.txt\n",
    "with open(\"Lab7-Exercise2.txt\", \"w\", encoding=\"utf-8\") as file: # ghi thông tin bài thơ vào file vừa tạo\n",
    "        file.write('''\"...\n",
    "                Nếu một mai tôi có bay lên trời\n",
    "                Thì người ơi tôi đã sống rất thảnh thơi\n",
    "                Nếu một mai tôi có đi qua đời\n",
    "                Thì người ơi tôi đã sống rất tuyệt vời\n",
    "                ...\"''')\n"
   ]
  },
  {
   "cell_type": "markdown",
   "id": "0f2483fe",
   "metadata": {},
   "source": [
    "## Lab 7 - Bài 3"
   ]
  },
  {
   "cell_type": "code",
   "execution_count": null,
   "id": "7034990b",
   "metadata": {},
   "outputs": [
    {
     "name": "stdout",
     "output_type": "stream",
     "text": [
      "Nhập thông tin 5 bài thơ 1\n",
      "------------------------------\n",
      "Nhập thông tin 5 bài thơ 2\n",
      "------------------------------\n",
      "Nhập thông tin 5 bài thơ 3\n",
      "------------------------------\n",
      "Nhập thông tin 5 bài thơ 4\n",
      "------------------------------\n",
      "Nhập thông tin 5 bài thơ 5\n",
      "------------------------------\n"
     ]
    }
   ],
   "source": [
    "# Code lab 7  bài 3 ở đây\n",
    "\n",
    "# Viết chương trình để nhập thông tin của 5 bài thơ từ bàn phím và ghi vào file theo định dạng csv. Thông tin của bài hát bao gồm: tiêu đề, tác giả và năm sáng tác.\n",
    "import csv\n",
    "file_name = \"lab7-5baitho.csv\"\n",
    "# code ghi đè vào file csv\n",
    "with open(file_name, \"w\", encoding=\"utf-8\") as file:\n",
    "    writer = csv.writer(file)\n",
    "    writer.writerow([\"Tiêu đề\", \"Tác giả\", \"Năm sáng tác\"])\n",
    "    #code nhập thông tin 5 bài thơ\n",
    "    for i in range(1, 6):\n",
    "        print(f\"Nhập thông tin 5 bài thơ {i}\")\n",
    "        tieu_de = input(\"Tiều đề: \")\n",
    "        tac_gia = input(\"Tác giả: \")\n",
    "        nam_sang_tac = input(\"Năm sáng tác: \")\n",
    "        print(\"-\"*30)\n",
    "        writer.writerow([tieu_de, tac_gia, nam_sang_tac])"
   ]
  },
  {
   "cell_type": "markdown",
   "id": "d36ea3d3",
   "metadata": {},
   "source": [
    "## Lab 7 - Bài 4"
   ]
  },
  {
   "cell_type": "code",
   "execution_count": 32,
   "id": "4c707ec1",
   "metadata": {},
   "outputs": [],
   "source": [
    "# code lab 7 bài 4 ở đây\n",
    "\n",
    "# Đọc toàn bộ nội dung\n",
    "with open(\"Resource.txt\", \"r\", encoding=\"utf-8\") as file:\n",
    "    noidung = file.read()\n",
    "\n",
    "# ghi vào file theo định dạng xml\n",
    "import xml\n",
    "file_name = \"ResourceXML.xml\"\n",
    "with open(file_name, \"w\", encoding=\"utf-8\") as xml_file:\n",
    "    xml_file.write('''Tự nguyện\n",
    "    Trương Quốc Khánh\n",
    "    Nếu là chim, tôi sẽ là loài bồ câu trắng\n",
    "    Nếu là hoa, tôi sẽ là một đóa hướng dương\n",
    "    Nếu là mây, tôi sẽ là một vầng mây ấm\n",
    "    Là người, tôi sẽ chết cho quê hương.\n",
    "\n",
    "    Là chim, tôi sẽ cất cao đôi cánh mềm\n",
    "    Từ nam ra ngoài bắc báo tin nối liền\n",
    "    Là hoa, tôi nở tình yêu ban sớm\n",
    "    Cùng muôn trái tim ngất ngây hoà bình.\n",
    "\n",
    "    Là mây, theo làn gió tung bay khắp trời\n",
    "    Nghìn xưa oai hùng đó tôi xin tiếp lời\n",
    "    Là người, xin một lần khi nằm xuống\n",
    "    Nhìn anh em đứng lên phất cao ngọn cờ.''')"
   ]
  },
  {
   "cell_type": "markdown",
   "id": "e2b41d4a",
   "metadata": {},
   "source": [
    "## Lab 7 - Bài 5: bài tập làm thêm"
   ]
  },
  {
   "cell_type": "code",
   "execution_count": null,
   "id": "0e0172f7",
   "metadata": {},
   "outputs": [],
   "source": [
    "# code lab 7  bài làm thêm ở đây "
   ]
  }
 ],
 "metadata": {
  "kernelspec": {
   "display_name": "Python 3",
   "language": "python",
   "name": "python3"
  },
  "language_info": {
   "codemirror_mode": {
    "name": "ipython",
    "version": 3
   },
   "file_extension": ".py",
   "mimetype": "text/x-python",
   "name": "python",
   "nbconvert_exporter": "python",
   "pygments_lexer": "ipython3",
   "version": "3.13.7"
  }
 },
 "nbformat": 4,
 "nbformat_minor": 5
}
