{
 "cells": [
  {
   "cell_type": "markdown",
   "id": "fdeff819",
   "metadata": {},
   "source": [
    "# Sinh Viên thực hiện Lab 5 ở Đây"
   ]
  },
  {
   "cell_type": "markdown",
   "id": "acc5d7dc",
   "metadata": {},
   "source": [
    "## Lab 5 - Bài 1"
   ]
  },
  {
   "cell_type": "code",
   "execution_count": 11,
   "id": "001e0507",
   "metadata": {},
   "outputs": [],
   "source": [
    "# Code lab 5 bài 1 ở đây\n",
    "class SanPham:\n",
    "    def __init__(self, ten_sp, gia, giam_gia):\n",
    "        self.ten_sp = ten_sp\n",
    "        self.gia = gia\n",
    "        self.giam_gia = giam_gia\n",
    "    def thue_nhap_khau(self):\n",
    "        return self.gia * 0.1\n",
    "    def nhap_thong_tin_san_pham(self):\n",
    "        self.ten_sp = input(\"Nhập tên sản phẩm: \")\n",
    "        self.gia = float(input(\"Nhập giá sản phẩm: \"))\n",
    "        self.giam_gia = float(input(\"Nhập giảm giá sản phẩm (%): \"))\n",
    "    def xuat_thong_tin_san_pham(self):\n",
    "        print(f\"Tên sản phẩm: {self.ten_sp}\")\n",
    "        print(f\"Giá: {self.gia}\")\n",
    "        print(f\"Giảm giá: {self.giam_gia}\")\n",
    "        print(f\"Thuế thu nhập: {self.thue_nhap_khau()}\")\n",
    "        print()"
   ]
  },
  {
   "cell_type": "markdown",
   "id": "c0835310",
   "metadata": {},
   "source": [
    "## Lab 5 - Bài 2"
   ]
  },
  {
   "cell_type": "code",
   "execution_count": 3,
   "id": "fa9cb39f",
   "metadata": {},
   "outputs": [
    {
     "name": "stdout",
     "output_type": "stream",
     "text": [
      "Tên sản phẩm: Phone\n",
      "Giá: 5000000.0\n",
      "Giảm giá: 5.0\n",
      "Thuế thu nhập: 500000.0\n",
      "\n",
      "Tên sản phẩm: Chip\n",
      "Giá: 80000000.0\n",
      "Giảm giá: 6.0\n",
      "Thuế thu nhập: 8000000.0\n",
      "Tên sản phẩm: Chip\n",
      "Giá: 80000000.0\n",
      "Giảm giá: 6.0\n",
      "Thuế thu nhập: 8000000.0\n"
     ]
    }
   ],
   "source": [
    "# Code lab 5  bài 2 ở đây\n",
    "from lab5sanpham import *\n",
    "\n",
    "sp1 = SanPham(\"\",\"\",\"\")\n",
    "sp2 = SanPham(\"\",\"\",\"\")\n",
    "sp1.nhap_thong_tin_san_pham()\n",
    "sp1.xuat_thong_tin_san_pham()\n",
    "print()\n",
    "sp2.nhap_thong_tin_san_pham()\n",
    "sp2.xuat_thong_tin_san_pham()"
   ]
  },
  {
   "cell_type": "markdown",
   "id": "0f2483fe",
   "metadata": {},
   "source": [
    "## Lab 5 - Bài 3"
   ]
  },
  {
   "cell_type": "code",
   "execution_count": 2,
   "id": "7034990b",
   "metadata": {},
   "outputs": [
    {
     "name": "stdout",
     "output_type": "stream",
     "text": [
      "Tên sản phẩm: gg\n",
      "Giá: 55555.0\n",
      "Giảm giá: 5.0\n",
      "Thuế thu nhập: 5555.5\n",
      "\n",
      "Tên sản phẩm: hh\n",
      "Giá: 55555.0\n",
      "Giảm giá: 5.0\n",
      "Thuế thu nhập: 5555.5\n",
      "Tên sản phẩm: hh\n",
      "Giá: 55555.0\n",
      "Giảm giá: 5.0\n",
      "Thuế thu nhập: 5555.5\n"
     ]
    }
   ],
   "source": [
    "# Code lab 5 - bài 3: Nâng cấp lớp SanPham với trường private và getter/setter\n",
    "from lab5sanpham import *\n",
    "\n",
    "sp1 = SanPham(\"\", \"\", \"\")\n",
    "sp2 = SanPham(\"\", \"\", \"\")\n",
    "sp1.nhap_thong_tin_san_pham()\n",
    "sp1.xuat_thong_tin_san_pham()\n",
    "print()\n",
    "sp2.nhap_thong_tin_san_pham()\n",
    "sp2.xuat_thong_tin_san_pham()"
   ]
  },
  {
   "cell_type": "markdown",
   "id": "d36ea3d3",
   "metadata": {},
   "source": [
    "## Lab 5 - Bài 4"
   ]
  },
  {
   "cell_type": "code",
   "execution_count": 16,
   "id": "4c707ec1",
   "metadata": {},
   "outputs": [
    {
     "name": "stdout",
     "output_type": "stream",
     "text": [
      "Sản phẩm Laptop có giá 1000.0 giảm giá 5.0 và thuế thu nhập 100.0\n"
     ]
    }
   ],
   "source": [
    "# code lab 5 bài 4 ở đây\n",
    "from lab5sanpham import *\n",
    "sp1 = SanPham(\"\", \"\", \"\")\n",
    "sp1.nhap_thong_tin_san_pham()\n",
    "print(sp1)\n"
   ]
  },
  {
   "cell_type": "markdown",
   "id": "e2b41d4a",
   "metadata": {},
   "source": [
    "## Lab 5 - Bài 5: bài tập làm thêm"
   ]
  },
  {
   "cell_type": "code",
   "execution_count": null,
   "id": "0e0172f7",
   "metadata": {},
   "outputs": [],
   "source": [
    "# code lab 5  bài làm thêm ở đây "
   ]
  }
 ],
 "metadata": {
  "kernelspec": {
   "display_name": "Python 3",
   "language": "python",
   "name": "python3"
  },
  "language_info": {
   "codemirror_mode": {
    "name": "ipython",
    "version": 3
   },
   "file_extension": ".py",
   "mimetype": "text/x-python",
   "name": "python",
   "nbconvert_exporter": "python",
   "pygments_lexer": "ipython3",
   "version": "3.13.7"
  }
 },
 "nbformat": 4,
 "nbformat_minor": 5
}
